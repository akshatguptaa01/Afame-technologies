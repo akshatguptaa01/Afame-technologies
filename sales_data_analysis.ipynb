{
 "cells": [
  {
   "cell_type": "code",
   "execution_count": 1,
   "id": "51886d57-2509-4a4e-b8d9-0fda70c34577",
   "metadata": {},
   "outputs": [],
   "source": [
    "import pandas as pd\n",
    "import numpy as np"
   ]
  },
  {
   "cell_type": "code",
   "execution_count": 2,
   "id": "6f1f6b1e-df1c-4252-bbd5-04fb80cf2e13",
   "metadata": {},
   "outputs": [],
   "source": [
    "salesData = pd.read_csv('Orders.csv')"
   ]
  },
  {
   "cell_type": "code",
   "execution_count": 4,
   "id": "3f9f360c-d222-4af9-a4ec-04d421410b0c",
   "metadata": {},
   "outputs": [
    {
     "data": {
      "text/plain": [
       "Index(['Row ID', 'Order ID', 'Order Date', 'Ship Date', 'Ship Mode',\n",
       "       'Customer ID', 'Customer Name', 'Segment', 'City', 'State', 'Country',\n",
       "       'Postal Code', 'Market', 'Region', 'Product ID', 'Category',\n",
       "       'Sub-Category', 'Product Name', 'Sales', 'Quantity', 'Discount',\n",
       "       'Profit', 'Shipping Cost', 'Order Priority'],\n",
       "      dtype='object')"
      ]
     },
     "execution_count": 4,
     "metadata": {},
     "output_type": "execute_result"
    }
   ],
   "source": [
    "salesData.columns"
   ]
  },
  {
   "cell_type": "code",
   "execution_count": 9,
   "id": "4d209d4c-e923-4929-998b-9eb6473fc401",
   "metadata": {},
   "outputs": [
    {
     "name": "stdout",
     "output_type": "stream",
     "text": [
      "<class 'pandas.core.frame.DataFrame'>\n",
      "RangeIndex: 51290 entries, 0 to 51289\n",
      "Data columns (total 24 columns):\n",
      " #   Column          Non-Null Count  Dtype  \n",
      "---  ------          --------------  -----  \n",
      " 0   Row ID          51290 non-null  int64  \n",
      " 1   Order ID        51290 non-null  object \n",
      " 2   Order Date      51290 non-null  object \n",
      " 3   Ship Date       51290 non-null  object \n",
      " 4   Ship Mode       51290 non-null  object \n",
      " 5   Customer ID     51290 non-null  object \n",
      " 6   Customer Name   51290 non-null  object \n",
      " 7   Segment         51290 non-null  object \n",
      " 8   City            51290 non-null  object \n",
      " 9   State           51290 non-null  object \n",
      " 10  Country         51290 non-null  object \n",
      " 11  Postal Code     9994 non-null   float64\n",
      " 12  Market          51290 non-null  object \n",
      " 13  Region          51290 non-null  object \n",
      " 14  Product ID      51290 non-null  object \n",
      " 15  Category        51290 non-null  object \n",
      " 16  Sub-Category    51290 non-null  object \n",
      " 17  Product Name    51290 non-null  object \n",
      " 18  Sales           51290 non-null  float64\n",
      " 19  Quantity        51290 non-null  int64  \n",
      " 20  Discount        51290 non-null  float64\n",
      " 21  Profit          51290 non-null  float64\n",
      " 22  Shipping Cost   51290 non-null  float64\n",
      " 23  Order Priority  51290 non-null  object \n",
      "dtypes: float64(5), int64(2), object(17)\n",
      "memory usage: 9.4+ MB\n"
     ]
    }
   ],
   "source": [
    "# 1. Exploratory Data Analysis\n",
    "salesData.describe()\n",
    "salesData.info()"
   ]
  },
  {
   "cell_type": "code",
   "execution_count": 10,
   "id": "9d1ccc9a-f4e6-461a-a8b7-56ec8c7c4dbb",
   "metadata": {},
   "outputs": [
    {
     "data": {
      "text/plain": [
       "Row ID                0\n",
       "Order ID              0\n",
       "Order Date            0\n",
       "Ship Date             0\n",
       "Ship Mode             0\n",
       "Customer ID           0\n",
       "Customer Name         0\n",
       "Segment               0\n",
       "City                  0\n",
       "State                 0\n",
       "Country               0\n",
       "Postal Code       41296\n",
       "Market                0\n",
       "Region                0\n",
       "Product ID            0\n",
       "Category              0\n",
       "Sub-Category          0\n",
       "Product Name          0\n",
       "Sales                 0\n",
       "Quantity              0\n",
       "Discount              0\n",
       "Profit                0\n",
       "Shipping Cost         0\n",
       "Order Priority        0\n",
       "dtype: int64"
      ]
     },
     "execution_count": 10,
     "metadata": {},
     "output_type": "execute_result"
    }
   ],
   "source": [
    "# Check for missing values\n",
    "salesData.isnull().sum()"
   ]
  },
  {
   "cell_type": "code",
   "execution_count": 11,
   "id": "050068fb-b0c4-4f1c-bae8-153b9f8ff261",
   "metadata": {},
   "outputs": [
    {
     "name": "stdout",
     "output_type": "stream",
     "text": [
      "Top 10 Best-Selling Items:\n"
     ]
    },
    {
     "data": {
      "text/plain": [
       "Product Name\n",
       "Staples                                  876\n",
       "Cardinal Index Tab, Clear                337\n",
       "Eldon File Cart, Single Width            321\n",
       "Rogers File Cart, Single Width           262\n",
       "Sanford Pencil Sharpener, Water Color    259\n",
       "Stockwell Paper Clips, Assorted Sizes    253\n",
       "Avery Index Tab, Clear                   252\n",
       "Ibico Index Tab, Clear                   251\n",
       "Smead File Cart, Single Width            250\n",
       "Stanley Pencil Sharpener, Water Color    242\n",
       "Name: Quantity, dtype: int64"
      ]
     },
     "execution_count": 11,
     "metadata": {},
     "output_type": "execute_result"
    }
   ],
   "source": [
    "#Identifying Best-Selling Items\n",
    "best_selling_items = salesData.groupby('Product Name')['Quantity'].sum().sort_values(ascending=False).head(10)\n",
    "print(\"Top 10 Best-Selling Items:\")\n",
    "best_selling_items"
   ]
  },
  {
   "cell_type": "code",
   "execution_count": 12,
   "id": "ea02d9c8-e031-4570-95b1-e71791e1303e",
   "metadata": {},
   "outputs": [
    {
     "name": "stdout",
     "output_type": "stream",
     "text": [
      "Total Revenue: 12642501.909880001\n"
     ]
    }
   ],
   "source": [
    "#Revenue Indicators\n",
    "total_revenue = salesData['Sales'].sum()\n",
    "print(\"Total Revenue:\", total_revenue)"
   ]
  },
  {
   "cell_type": "code",
   "execution_count": 13,
   "id": "d17f5683-cafa-4a59-9542-3ef776b40e70",
   "metadata": {},
   "outputs": [
    {
     "name": "stdout",
     "output_type": "stream",
     "text": [
      "Revenue by Category:\n"
     ]
    },
    {
     "data": {
      "text/plain": [
       "Category\n",
       "Technology         4.744557e+06\n",
       "Furniture          4.110874e+06\n",
       "Office Supplies    3.787070e+06\n",
       "Name: Sales, dtype: float64"
      ]
     },
     "execution_count": 13,
     "metadata": {},
     "output_type": "execute_result"
    }
   ],
   "source": [
    "#Business Decision-Making\n",
    "#Analyze revenue distribution across product categories\n",
    "revenue_by_category = salesData.groupby('Category')['Sales'].sum().sort_values(ascending=False)\n",
    "print(\"Revenue by Category:\")\n",
    "revenue_by_category"
   ]
  }
 ],
 "metadata": {
  "kernelspec": {
   "display_name": "Python 3 (ipykernel)",
   "language": "python",
   "name": "python3"
  },
  "language_info": {
   "codemirror_mode": {
    "name": "ipython",
    "version": 3
   },
   "file_extension": ".py",
   "mimetype": "text/x-python",
   "name": "python",
   "nbconvert_exporter": "python",
   "pygments_lexer": "ipython3",
   "version": "3.9.13"
  }
 },
 "nbformat": 4,
 "nbformat_minor": 5
}
